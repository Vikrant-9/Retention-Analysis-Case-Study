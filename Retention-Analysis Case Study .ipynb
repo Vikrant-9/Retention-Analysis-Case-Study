{
 "cells": [
  {
   "cell_type": "code",
   "execution_count": 2,
   "id": "9d5af7e4",
   "metadata": {},
   "outputs": [],
   "source": [
    "#importing librariies\n",
    "import pandas as pd\n",
    "import numpy as np"
   ]
  },
  {
   "cell_type": "code",
   "execution_count": 3,
   "id": "d49ba974",
   "metadata": {},
   "outputs": [
    {
     "data": {
      "text/html": [
       "<div>\n",
       "<style scoped>\n",
       "    .dataframe tbody tr th:only-of-type {\n",
       "        vertical-align: middle;\n",
       "    }\n",
       "\n",
       "    .dataframe tbody tr th {\n",
       "        vertical-align: top;\n",
       "    }\n",
       "\n",
       "    .dataframe thead th {\n",
       "        text-align: right;\n",
       "    }\n",
       "</style>\n",
       "<table border=\"1\" class=\"dataframe\">\n",
       "  <thead>\n",
       "    <tr style=\"text-align: right;\">\n",
       "      <th></th>\n",
       "      <th>gender</th>\n",
       "      <th>age</th>\n",
       "      <th>gross_income</th>\n",
       "      <th>segment</th>\n",
       "      <th>num_credit_cards</th>\n",
       "      <th>tiprel_1mes</th>\n",
       "      <th>ind_actividad_cliente</th>\n",
       "      <th>num_Products</th>\n",
       "      <th>num_loans</th>\n",
       "      <th>duration</th>\n",
       "    </tr>\n",
       "  </thead>\n",
       "  <tbody>\n",
       "    <tr>\n",
       "      <th>0</th>\n",
       "      <td>M</td>\n",
       "      <td>21 years</td>\n",
       "      <td>$ 79070.91</td>\n",
       "      <td>Individuals</td>\n",
       "      <td>0</td>\n",
       "      <td>I</td>\n",
       "      <td>0</td>\n",
       "      <td>1</td>\n",
       "      <td>0</td>\n",
       "      <td>1035</td>\n",
       "    </tr>\n",
       "    <tr>\n",
       "      <th>1</th>\n",
       "      <td>M</td>\n",
       "      <td>23 years</td>\n",
       "      <td>$ 178270.68</td>\n",
       "      <td>College_Graduated</td>\n",
       "      <td>0</td>\n",
       "      <td>I</td>\n",
       "      <td>0</td>\n",
       "      <td>1</td>\n",
       "      <td>0</td>\n",
       "      <td>1097</td>\n",
       "    </tr>\n",
       "    <tr>\n",
       "      <th>2</th>\n",
       "      <td>M</td>\n",
       "      <td>24 years</td>\n",
       "      <td>$ 31243.56</td>\n",
       "      <td>College_Graduated</td>\n",
       "      <td>0</td>\n",
       "      <td>I</td>\n",
       "      <td>1</td>\n",
       "      <td>1</td>\n",
       "      <td>0</td>\n",
       "      <td>1866</td>\n",
       "    </tr>\n",
       "    <tr>\n",
       "      <th>3</th>\n",
       "      <td>M</td>\n",
       "      <td>24 years</td>\n",
       "      <td>$ 130740.54</td>\n",
       "      <td>College_Graduated</td>\n",
       "      <td>0</td>\n",
       "      <td>I</td>\n",
       "      <td>0</td>\n",
       "      <td>1</td>\n",
       "      <td>0</td>\n",
       "      <td>1440</td>\n",
       "    </tr>\n",
       "    <tr>\n",
       "      <th>4</th>\n",
       "      <td>M</td>\n",
       "      <td>31 years</td>\n",
       "      <td>$ 112975.17</td>\n",
       "      <td>Individuals</td>\n",
       "      <td>0</td>\n",
       "      <td>I</td>\n",
       "      <td>0</td>\n",
       "      <td>0</td>\n",
       "      <td>0</td>\n",
       "      <td>376</td>\n",
       "    </tr>\n",
       "  </tbody>\n",
       "</table>\n",
       "</div>"
      ],
      "text/plain": [
       "  gender       age gross_income            segment num_credit_cards  \\\n",
       "0      M  21 years   $ 79070.91        Individuals                0   \n",
       "1      M  23 years  $ 178270.68  College_Graduated                0   \n",
       "2      M  24 years   $ 31243.56  College_Graduated                0   \n",
       "3      M  24 years  $ 130740.54  College_Graduated                0   \n",
       "4      M  31 years  $ 112975.17        Individuals                0   \n",
       "\n",
       "  tiprel_1mes ind_actividad_cliente num_Products num_loans duration  \n",
       "0           I                     0            1         0     1035  \n",
       "1           I                     0            1         0     1097  \n",
       "2           I                     1            1         0     1866  \n",
       "3           I                     0            1         0     1440  \n",
       "4           I                     0            0         0      376  "
      ]
     },
     "execution_count": 3,
     "metadata": {},
     "output_type": "execute_result"
    }
   ],
   "source": [
    "#reading files\n",
    "df = pd.read_json('retention.json').transpose()\n",
    "df.head()"
   ]
  },
  {
   "cell_type": "code",
   "execution_count": 4,
   "id": "4d0bfb86",
   "metadata": {},
   "outputs": [
    {
     "name": "stdout",
     "output_type": "stream",
     "text": [
      "<class 'pandas.core.frame.DataFrame'>\n",
      "Int64Index: 54030 entries, 0 to 54029\n",
      "Data columns (total 10 columns):\n",
      " #   Column                 Non-Null Count  Dtype \n",
      "---  ------                 --------------  ----- \n",
      " 0   gender                 54030 non-null  object\n",
      " 1   age                    54030 non-null  object\n",
      " 2   gross_income           54030 non-null  object\n",
      " 3   segment                54030 non-null  object\n",
      " 4   num_credit_cards       54030 non-null  object\n",
      " 5   tiprel_1mes            54030 non-null  object\n",
      " 6   ind_actividad_cliente  54030 non-null  object\n",
      " 7   num_Products           54030 non-null  object\n",
      " 8   num_loans              54030 non-null  object\n",
      " 9   duration               54030 non-null  object\n",
      "dtypes: object(10)\n",
      "memory usage: 6.6+ MB\n"
     ]
    }
   ],
   "source": [
    "df.info()"
   ]
  },
  {
   "cell_type": "markdown",
   "id": "82d68bf3",
   "metadata": {},
   "source": [
    "## Found No Null Values"
   ]
  },
  {
   "cell_type": "code",
   "execution_count": 11,
   "id": "f98bb6df",
   "metadata": {},
   "outputs": [
    {
     "data": {
      "text/html": [
       "<div>\n",
       "<style scoped>\n",
       "    .dataframe tbody tr th:only-of-type {\n",
       "        vertical-align: middle;\n",
       "    }\n",
       "\n",
       "    .dataframe tbody tr th {\n",
       "        vertical-align: top;\n",
       "    }\n",
       "\n",
       "    .dataframe thead th {\n",
       "        text-align: right;\n",
       "    }\n",
       "</style>\n",
       "<table border=\"1\" class=\"dataframe\">\n",
       "  <thead>\n",
       "    <tr style=\"text-align: right;\">\n",
       "      <th></th>\n",
       "      <th>gender</th>\n",
       "      <th>age</th>\n",
       "      <th>gross_income</th>\n",
       "      <th>segment</th>\n",
       "      <th>num_credit_cards</th>\n",
       "      <th>tiprel_1mes</th>\n",
       "      <th>ind_actividad_cliente</th>\n",
       "      <th>num_Products</th>\n",
       "      <th>num_loans</th>\n",
       "      <th>duration</th>\n",
       "    </tr>\n",
       "  </thead>\n",
       "  <tbody>\n",
       "    <tr>\n",
       "      <th>count</th>\n",
       "      <td>54030</td>\n",
       "      <td>54030</td>\n",
       "      <td>54030</td>\n",
       "      <td>54030</td>\n",
       "      <td>54030</td>\n",
       "      <td>54030</td>\n",
       "      <td>54030</td>\n",
       "      <td>54030</td>\n",
       "      <td>54030</td>\n",
       "      <td>54030</td>\n",
       "    </tr>\n",
       "    <tr>\n",
       "      <th>unique</th>\n",
       "      <td>2</td>\n",
       "      <td>110</td>\n",
       "      <td>49994</td>\n",
       "      <td>3</td>\n",
       "      <td>2</td>\n",
       "      <td>2</td>\n",
       "      <td>2</td>\n",
       "      <td>14</td>\n",
       "      <td>2</td>\n",
       "      <td>5677</td>\n",
       "    </tr>\n",
       "    <tr>\n",
       "      <th>top</th>\n",
       "      <td>F</td>\n",
       "      <td>23 years</td>\n",
       "      <td>$ 451931.22</td>\n",
       "      <td>Individuals</td>\n",
       "      <td>0</td>\n",
       "      <td>I</td>\n",
       "      <td>0</td>\n",
       "      <td>1</td>\n",
       "      <td>0</td>\n",
       "      <td>716</td>\n",
       "    </tr>\n",
       "    <tr>\n",
       "      <th>freq</th>\n",
       "      <td>29681</td>\n",
       "      <td>3080</td>\n",
       "      <td>29</td>\n",
       "      <td>32607</td>\n",
       "      <td>51335</td>\n",
       "      <td>29026</td>\n",
       "      <td>28686</td>\n",
       "      <td>27817</td>\n",
       "      <td>53524</td>\n",
       "      <td>226</td>\n",
       "    </tr>\n",
       "  </tbody>\n",
       "</table>\n",
       "</div>"
      ],
      "text/plain": [
       "       gender       age gross_income      segment  num_credit_cards  \\\n",
       "count   54030     54030        54030        54030             54030   \n",
       "unique      2       110        49994            3                 2   \n",
       "top         F  23 years  $ 451931.22  Individuals                 0   \n",
       "freq    29681      3080           29        32607             51335   \n",
       "\n",
       "       tiprel_1mes  ind_actividad_cliente  num_Products  num_loans  duration  \n",
       "count        54030                  54030         54030      54030     54030  \n",
       "unique           2                      2            14          2      5677  \n",
       "top              I                      0             1          0       716  \n",
       "freq         29026                  28686         27817      53524       226  "
      ]
     },
     "execution_count": 11,
     "metadata": {},
     "output_type": "execute_result"
    }
   ],
   "source": [
    "##Checking topmost and most frequent values in each column\n",
    "df.describe()"
   ]
  },
  {
   "cell_type": "markdown",
   "id": "c57167e5",
   "metadata": {},
   "source": [
    "### Initial Observations:\n",
    "    \n",
    "- 1. Have to clean up the age column\n",
    "- 2. Must remove the $ from gross income\n",
    "- 3. Change data types of some columns"
   ]
  },
  {
   "cell_type": "markdown",
   "id": "9199baa2",
   "metadata": {},
   "source": [
    "----------------"
   ]
  },
  {
   "cell_type": "markdown",
   "id": "3ec9aba9",
   "metadata": {},
   "source": [
    "## Going through each column"
   ]
  },
  {
   "cell_type": "markdown",
   "id": "747b81c2",
   "metadata": {},
   "source": [
    "### Gender Column"
   ]
  },
  {
   "cell_type": "code",
   "execution_count": 12,
   "id": "8eeb16b3",
   "metadata": {},
   "outputs": [
    {
     "data": {
      "text/plain": [
       "array(['M', 'F'], dtype=object)"
      ]
     },
     "execution_count": 12,
     "metadata": {},
     "output_type": "execute_result"
    }
   ],
   "source": [
    "df.gender.unique()"
   ]
  },
  {
   "cell_type": "code",
   "execution_count": 13,
   "id": "c9e81010",
   "metadata": {},
   "outputs": [
    {
     "data": {
      "text/plain": [
       "0"
      ]
     },
     "execution_count": 13,
     "metadata": {},
     "output_type": "execute_result"
    }
   ],
   "source": [
    "df.gender.isnull().sum()"
   ]
  },
  {
   "cell_type": "code",
   "execution_count": 14,
   "id": "cec516d8",
   "metadata": {},
   "outputs": [
    {
     "data": {
      "text/plain": [
       "count     54030\n",
       "unique        2\n",
       "top           F\n",
       "freq      29681\n",
       "Name: gender, dtype: object"
      ]
     },
     "execution_count": 14,
     "metadata": {},
     "output_type": "execute_result"
    }
   ],
   "source": [
    "df.gender.describe()"
   ]
  },
  {
   "cell_type": "markdown",
   "id": "11995e5d",
   "metadata": {},
   "source": [
    "#### 1. Unique values - 2\n",
    "#### 2. Null values - 0"
   ]
  },
  {
   "cell_type": "markdown",
   "id": "a1388b66",
   "metadata": {},
   "source": [
    "### Age"
   ]
  },
  {
   "cell_type": "code",
   "execution_count": 15,
   "id": "86b91619",
   "metadata": {},
   "outputs": [
    {
     "data": {
      "text/plain": [
       "array(['21 years', '23 years', '24 years', '31 years', '32 years',\n",
       "       '43 years', '48 years', '36 years', '26 years', '46 years',\n",
       "       '42 years', '22 years', '33 years', '40 years', '60 years',\n",
       "       '25 years', '45 years', '34 years', '30 years', '54 years',\n",
       "       '20 years', '39 years', '52 years', '66 years', '89 years',\n",
       "       '61 years', '71 years', '69 years', '53 years', '18 years',\n",
       "       '44 years', '70 years', '72 years', '27 years', '64 years',\n",
       "       '28 years', '73 years', '57 years', '38 years', '78 years',\n",
       "       '68 years', '56 years', '50 years', '87 years', '51 years',\n",
       "       '84 years', '67 years', '37 years', '35 years', '63 years',\n",
       "       '47 years', '49 years', '29 years', '58 years', '74 years',\n",
       "       '85 years', '86 years', '88 years', '62 years', '83 years',\n",
       "       '59 years', '55 years', '75 years', '41 years', '80 years',\n",
       "       '14 years', '65 years', '76 years', '97 years', '15 years',\n",
       "       '82 years', '77 years', '98 years', '81 years', '90 years',\n",
       "       '91 years', '104 years', '11 years', '93 years', '2 years',\n",
       "       '99 years', '79 years', '6 years', '13 years', '19 years',\n",
       "       '17 years', '101 years', '12 years', '103 years', '10 years',\n",
       "       '92 years', '96 years', '94 years', '102 years', '105 years',\n",
       "       '4 years', '16 years', '5 years', '3 years', '9 years', '7 years',\n",
       "       '112 years', '95 years', '8 years', '100 years', '107 years',\n",
       "       '106 years', '108 years', '110 years', '111 years'], dtype=object)"
      ]
     },
     "execution_count": 15,
     "metadata": {},
     "output_type": "execute_result"
    }
   ],
   "source": [
    "df.age.unique()"
   ]
  },
  {
   "cell_type": "code",
   "execution_count": 16,
   "id": "6bbeb7d0",
   "metadata": {},
   "outputs": [
    {
     "data": {
      "text/plain": [
       "0"
      ]
     },
     "execution_count": 16,
     "metadata": {},
     "output_type": "execute_result"
    }
   ],
   "source": [
    "df.age.isnull().sum()"
   ]
  },
  {
   "cell_type": "markdown",
   "id": "97431e52",
   "metadata": {},
   "source": [
    "#### We have to omit 'years' from each entry, no null values are present & Convert it to integer type"
   ]
  },
  {
   "cell_type": "code",
   "execution_count": 17,
   "id": "d38a3557",
   "metadata": {},
   "outputs": [],
   "source": [
    "df['age'] = df['age'].apply(lambda x: x.split(' ')[0]).astype('int')"
   ]
  },
  {
   "cell_type": "code",
   "execution_count": 18,
   "id": "c11d8d3b",
   "metadata": {},
   "outputs": [
    {
     "data": {
      "text/plain": [
       "count    54030.000000\n",
       "mean        40.772534\n",
       "std         17.210781\n",
       "min          2.000000\n",
       "25%         25.000000\n",
       "50%         40.000000\n",
       "75%         51.000000\n",
       "max        112.000000\n",
       "Name: age, dtype: float64"
      ]
     },
     "execution_count": 18,
     "metadata": {},
     "output_type": "execute_result"
    }
   ],
   "source": [
    "df.age.describe()"
   ]
  },
  {
   "cell_type": "markdown",
   "id": "4c9e77d8",
   "metadata": {},
   "source": [
    "### Gross Income"
   ]
  },
  {
   "cell_type": "code",
   "execution_count": 19,
   "id": "42025e33",
   "metadata": {},
   "outputs": [
    {
     "data": {
      "text/plain": [
       "array(['$ 79070.91', '$ 178270.68', '$ 31243.56', ..., '$ 106930.05',\n",
       "       '$ 65246.79', '$ 180678.48'], dtype=object)"
      ]
     },
     "execution_count": 19,
     "metadata": {},
     "output_type": "execute_result"
    }
   ],
   "source": [
    "df.gross_income.unique()"
   ]
  },
  {
   "cell_type": "code",
   "execution_count": 20,
   "id": "48aee557",
   "metadata": {},
   "outputs": [
    {
     "data": {
      "text/plain": [
       "0"
      ]
     },
     "execution_count": 20,
     "metadata": {},
     "output_type": "execute_result"
    }
   ],
   "source": [
    "df.gross_income.isnull().sum()"
   ]
  },
  {
   "cell_type": "markdown",
   "id": "5cc68697",
   "metadata": {},
   "source": [
    "#### We have to remove the $ sign from every entry, no null values. Convert it to float type"
   ]
  },
  {
   "cell_type": "code",
   "execution_count": 21,
   "id": "6c52edb9",
   "metadata": {},
   "outputs": [],
   "source": [
    "df['gross_income'] = df['gross_income'].apply(lambda x: x.split(' ')[1]).astype('float')"
   ]
  },
  {
   "cell_type": "code",
   "execution_count": 22,
   "id": "5bc9936e",
   "metadata": {},
   "outputs": [
    {
     "data": {
      "text/plain": [
       "count       54030.000000\n",
       "mean       134196.672404\n",
       "std        239721.455090\n",
       "min          2336.010000\n",
       "25%         68581.072500\n",
       "50%        101566.320000\n",
       "75%        156253.755000\n",
       "max      28894395.510000\n",
       "Name: gross_income, dtype: object"
      ]
     },
     "execution_count": 22,
     "metadata": {},
     "output_type": "execute_result"
    }
   ],
   "source": [
    "df['gross_income'].describe().apply(lambda x: format(x, 'f'))"
   ]
  },
  {
   "cell_type": "markdown",
   "id": "3d6051e9",
   "metadata": {},
   "source": [
    "### Segment"
   ]
  },
  {
   "cell_type": "code",
   "execution_count": 23,
   "id": "dd6a3ed0",
   "metadata": {},
   "outputs": [
    {
     "data": {
      "text/plain": [
       "array(['Individuals', 'College_Graduated', 'VIP'], dtype=object)"
      ]
     },
     "execution_count": 23,
     "metadata": {},
     "output_type": "execute_result"
    }
   ],
   "source": [
    "df.segment.unique()"
   ]
  },
  {
   "cell_type": "code",
   "execution_count": 24,
   "id": "f2ea124b",
   "metadata": {},
   "outputs": [
    {
     "data": {
      "text/plain": [
       "0"
      ]
     },
     "execution_count": 24,
     "metadata": {},
     "output_type": "execute_result"
    }
   ],
   "source": [
    "df.segment.isnull().sum()"
   ]
  },
  {
   "cell_type": "code",
   "execution_count": 25,
   "id": "12202ccb",
   "metadata": {},
   "outputs": [
    {
     "data": {
      "text/plain": [
       "count           54030\n",
       "unique              3\n",
       "top       Individuals\n",
       "freq            32607\n",
       "Name: segment, dtype: object"
      ]
     },
     "execution_count": 25,
     "metadata": {},
     "output_type": "execute_result"
    }
   ],
   "source": [
    "df.segment.describe()"
   ]
  },
  {
   "cell_type": "markdown",
   "id": "7a457195",
   "metadata": {},
   "source": [
    "#### No null values are present, we can leave it as it is."
   ]
  },
  {
   "cell_type": "markdown",
   "id": "90fb0595",
   "metadata": {},
   "source": [
    "### Num_Credit_Cards"
   ]
  },
  {
   "cell_type": "code",
   "execution_count": 26,
   "id": "2af0fc09",
   "metadata": {},
   "outputs": [
    {
     "data": {
      "text/plain": [
       "array([0, 1], dtype=object)"
      ]
     },
     "execution_count": 26,
     "metadata": {},
     "output_type": "execute_result"
    }
   ],
   "source": [
    "df.num_credit_cards.unique()"
   ]
  },
  {
   "cell_type": "code",
   "execution_count": 27,
   "id": "fab3df95",
   "metadata": {},
   "outputs": [
    {
     "data": {
      "text/plain": [
       "0"
      ]
     },
     "execution_count": 27,
     "metadata": {},
     "output_type": "execute_result"
    }
   ],
   "source": [
    "df.num_credit_cards.isnull().sum()"
   ]
  },
  {
   "cell_type": "code",
   "execution_count": 28,
   "id": "03e606b5",
   "metadata": {},
   "outputs": [
    {
     "data": {
      "text/plain": [
       "count     54030\n",
       "unique        2\n",
       "top           0\n",
       "freq      51335\n",
       "Name: num_credit_cards, dtype: int64"
      ]
     },
     "execution_count": 28,
     "metadata": {},
     "output_type": "execute_result"
    }
   ],
   "source": [
    "df.num_credit_cards.describe()"
   ]
  },
  {
   "cell_type": "markdown",
   "id": "b48a7eec",
   "metadata": {},
   "source": [
    "#### No null values are present, we can leave things as it is. Need to change it to int type"
   ]
  },
  {
   "cell_type": "code",
   "execution_count": 29,
   "id": "5b6d4031",
   "metadata": {},
   "outputs": [],
   "source": [
    "df['num_credit_cards'] = df['num_credit_cards'].astype('int')"
   ]
  },
  {
   "cell_type": "markdown",
   "id": "3ec2d8be",
   "metadata": {},
   "source": [
    "### tiprel_1mes Column"
   ]
  },
  {
   "cell_type": "code",
   "execution_count": 30,
   "id": "dcb4f4fc",
   "metadata": {},
   "outputs": [
    {
     "data": {
      "text/plain": [
       "array(['I', 'A'], dtype=object)"
      ]
     },
     "execution_count": 30,
     "metadata": {},
     "output_type": "execute_result"
    }
   ],
   "source": [
    "df.tiprel_1mes.unique()"
   ]
  },
  {
   "cell_type": "code",
   "execution_count": 31,
   "id": "f8f9984a",
   "metadata": {},
   "outputs": [
    {
     "data": {
      "text/plain": [
       "0"
      ]
     },
     "execution_count": 31,
     "metadata": {},
     "output_type": "execute_result"
    }
   ],
   "source": [
    "df.tiprel_1mes.isnull().sum()"
   ]
  },
  {
   "cell_type": "code",
   "execution_count": 32,
   "id": "a5c1e64d",
   "metadata": {},
   "outputs": [
    {
     "data": {
      "text/plain": [
       "count     54030\n",
       "unique        2\n",
       "top           I\n",
       "freq      29026\n",
       "Name: tiprel_1mes, dtype: object"
      ]
     },
     "execution_count": 32,
     "metadata": {},
     "output_type": "execute_result"
    }
   ],
   "source": [
    "df.tiprel_1mes.describe()"
   ]
  },
  {
   "cell_type": "markdown",
   "id": "551694a5",
   "metadata": {},
   "source": [
    "#### No null values are present, we can leave it as it is."
   ]
  },
  {
   "cell_type": "markdown",
   "id": "3b3c00f1",
   "metadata": {},
   "source": [
    " "
   ]
  },
  {
   "cell_type": "markdown",
   "id": "1e31061a",
   "metadata": {},
   "source": [
    " "
   ]
  },
  {
   "cell_type": "markdown",
   "id": "24f4783d",
   "metadata": {},
   "source": [
    "### ind_actividad_cliente Column"
   ]
  },
  {
   "cell_type": "code",
   "execution_count": 33,
   "id": "afd055b0",
   "metadata": {},
   "outputs": [
    {
     "data": {
      "text/plain": [
       "array([0, 1], dtype=object)"
      ]
     },
     "execution_count": 33,
     "metadata": {},
     "output_type": "execute_result"
    }
   ],
   "source": [
    "df['ind_actividad_cliente'].unique()"
   ]
  },
  {
   "cell_type": "code",
   "execution_count": 34,
   "id": "6b180593",
   "metadata": {},
   "outputs": [
    {
     "data": {
      "text/plain": [
       "0"
      ]
     },
     "execution_count": 34,
     "metadata": {},
     "output_type": "execute_result"
    }
   ],
   "source": [
    "df['ind_actividad_cliente'].isnull().sum()"
   ]
  },
  {
   "cell_type": "markdown",
   "id": "d76a6742",
   "metadata": {},
   "source": [
    "#### No null values are present, we can leave things as it is. Need to change it to int type"
   ]
  },
  {
   "cell_type": "code",
   "execution_count": 35,
   "id": "40225074",
   "metadata": {},
   "outputs": [],
   "source": [
    "df['ind_actividad_cliente'] = df['ind_actividad_cliente'].astype('int')"
   ]
  },
  {
   "cell_type": "code",
   "execution_count": 36,
   "id": "2f68bbf7",
   "metadata": {},
   "outputs": [
    {
     "data": {
      "text/plain": [
       "count    54030.000000\n",
       "mean         0.469073\n",
       "std          0.499047\n",
       "min          0.000000\n",
       "25%          0.000000\n",
       "50%          0.000000\n",
       "75%          1.000000\n",
       "max          1.000000\n",
       "Name: ind_actividad_cliente, dtype: float64"
      ]
     },
     "execution_count": 36,
     "metadata": {},
     "output_type": "execute_result"
    }
   ],
   "source": [
    "df['ind_actividad_cliente'].describe()"
   ]
  },
  {
   "cell_type": "markdown",
   "id": "8e60bffa",
   "metadata": {},
   "source": [
    " "
   ]
  },
  {
   "cell_type": "markdown",
   "id": "fc86ecfa",
   "metadata": {},
   "source": [
    " "
   ]
  },
  {
   "cell_type": "markdown",
   "id": "d8a9445a",
   "metadata": {},
   "source": [
    "### num_Products Column"
   ]
  },
  {
   "cell_type": "code",
   "execution_count": 37,
   "id": "46646129",
   "metadata": {},
   "outputs": [
    {
     "data": {
      "text/plain": [
       "array([1, 0, 4, 2, 7, 3, 5, 6, 9, 8, 10, 12, 11, 13], dtype=object)"
      ]
     },
     "execution_count": 37,
     "metadata": {},
     "output_type": "execute_result"
    }
   ],
   "source": [
    "df['num_Products'].unique()"
   ]
  },
  {
   "cell_type": "code",
   "execution_count": 38,
   "id": "689a23d9",
   "metadata": {},
   "outputs": [
    {
     "data": {
      "text/plain": [
       "0"
      ]
     },
     "execution_count": 38,
     "metadata": {},
     "output_type": "execute_result"
    }
   ],
   "source": [
    "df['num_Products'].isnull().sum()"
   ]
  },
  {
   "cell_type": "markdown",
   "id": "002e00c9",
   "metadata": {},
   "source": [
    "#### No null values are present, we can leave things as it is. Need to change it to int type"
   ]
  },
  {
   "cell_type": "code",
   "execution_count": 39,
   "id": "e6b1e447",
   "metadata": {},
   "outputs": [],
   "source": [
    "df['num_Products'] = df['num_Products'].astype('int')"
   ]
  },
  {
   "cell_type": "code",
   "execution_count": 40,
   "id": "64b915b0",
   "metadata": {},
   "outputs": [
    {
     "data": {
      "text/plain": [
       "count    54030.000000\n",
       "mean         1.536017\n",
       "std          1.578848\n",
       "min          0.000000\n",
       "25%          1.000000\n",
       "50%          1.000000\n",
       "75%          2.000000\n",
       "max         13.000000\n",
       "Name: num_Products, dtype: float64"
      ]
     },
     "execution_count": 40,
     "metadata": {},
     "output_type": "execute_result"
    }
   ],
   "source": [
    "df['num_Products'].describe()"
   ]
  },
  {
   "cell_type": "markdown",
   "id": "d6020e5c",
   "metadata": {},
   "source": [
    " "
   ]
  },
  {
   "cell_type": "markdown",
   "id": "9967067e",
   "metadata": {},
   "source": [
    " "
   ]
  },
  {
   "cell_type": "markdown",
   "id": "f7d920af",
   "metadata": {},
   "source": [
    "### num_loans Column"
   ]
  },
  {
   "cell_type": "code",
   "execution_count": 41,
   "id": "e79a997f",
   "metadata": {},
   "outputs": [
    {
     "data": {
      "text/plain": [
       "array([0, 1], dtype=object)"
      ]
     },
     "execution_count": 41,
     "metadata": {},
     "output_type": "execute_result"
    }
   ],
   "source": [
    "df['num_loans'].unique()"
   ]
  },
  {
   "cell_type": "code",
   "execution_count": 42,
   "id": "436a9827",
   "metadata": {},
   "outputs": [
    {
     "data": {
      "text/plain": [
       "0"
      ]
     },
     "execution_count": 42,
     "metadata": {},
     "output_type": "execute_result"
    }
   ],
   "source": [
    "df['num_loans'].isnull().sum()"
   ]
  },
  {
   "cell_type": "markdown",
   "id": "d0e7a04e",
   "metadata": {},
   "source": [
    "#### No null values are present, we can leave things as it is. Need to change it to int type"
   ]
  },
  {
   "cell_type": "code",
   "execution_count": 43,
   "id": "ff51b153",
   "metadata": {},
   "outputs": [],
   "source": [
    "df['num_loans'] = df['num_loans'].astype('int')"
   ]
  },
  {
   "cell_type": "code",
   "execution_count": 44,
   "id": "66e6103c",
   "metadata": {},
   "outputs": [
    {
     "data": {
      "text/plain": [
       "count    54030.000000\n",
       "mean         0.009365\n",
       "std          0.096320\n",
       "min          0.000000\n",
       "25%          0.000000\n",
       "50%          0.000000\n",
       "75%          0.000000\n",
       "max          1.000000\n",
       "Name: num_loans, dtype: float64"
      ]
     },
     "execution_count": 44,
     "metadata": {},
     "output_type": "execute_result"
    }
   ],
   "source": [
    "df['num_loans'].describe()"
   ]
  },
  {
   "cell_type": "markdown",
   "id": "88fa50dc",
   "metadata": {},
   "source": [
    " "
   ]
  },
  {
   "cell_type": "markdown",
   "id": "9d40d85d",
   "metadata": {},
   "source": [
    " "
   ]
  },
  {
   "cell_type": "markdown",
   "id": "fab182d5",
   "metadata": {},
   "source": [
    "### duration Column"
   ]
  },
  {
   "cell_type": "code",
   "execution_count": 45,
   "id": "fd3f78eb",
   "metadata": {},
   "outputs": [
    {
     "data": {
      "text/plain": [
       "array([1035, 1097, 1866, ..., 7382, 7509, 6981], dtype=object)"
      ]
     },
     "execution_count": 45,
     "metadata": {},
     "output_type": "execute_result"
    }
   ],
   "source": [
    "df['duration'].unique()"
   ]
  },
  {
   "cell_type": "code",
   "execution_count": 46,
   "id": "c227b47e",
   "metadata": {},
   "outputs": [
    {
     "data": {
      "text/plain": [
       "0"
      ]
     },
     "execution_count": 46,
     "metadata": {},
     "output_type": "execute_result"
    }
   ],
   "source": [
    "df['duration'].isnull().sum()"
   ]
  },
  {
   "cell_type": "markdown",
   "id": "23136b2f",
   "metadata": {},
   "source": [
    "#### No null values are present, we can leave things as it is. Need to change it to int type"
   ]
  },
  {
   "cell_type": "code",
   "execution_count": 47,
   "id": "8c29fedf",
   "metadata": {},
   "outputs": [],
   "source": [
    "df['duration'] = df['duration'].astype('int')"
   ]
  },
  {
   "cell_type": "code",
   "execution_count": 48,
   "id": "6d49ed62",
   "metadata": {},
   "outputs": [
    {
     "data": {
      "text/plain": [
       "count    54030.000000\n",
       "mean      2913.936665\n",
       "std       2027.956268\n",
       "min        366.000000\n",
       "25%       1118.000000\n",
       "50%       2039.500000\n",
       "75%       4693.000000\n",
       "max       7909.000000\n",
       "Name: duration, dtype: float64"
      ]
     },
     "execution_count": 48,
     "metadata": {},
     "output_type": "execute_result"
    }
   ],
   "source": [
    "df['duration'].describe()"
   ]
  },
  {
   "cell_type": "markdown",
   "id": "4ed289a5",
   "metadata": {},
   "source": [
    " ---------------------------------------------------------"
   ]
  },
  {
   "cell_type": "markdown",
   "id": "92d8c4f9",
   "metadata": {},
   "source": [
    "----------------------------------------------------"
   ]
  },
  {
   "cell_type": "code",
   "execution_count": 49,
   "id": "34319eb4",
   "metadata": {},
   "outputs": [],
   "source": [
    "import matplotlib.pyplot as plt\n",
    "import seaborn as sns\n",
    "import warnings\n",
    "warnings.simplefilter(action=\"ignore\", category=FutureWarning)"
   ]
  },
  {
   "cell_type": "markdown",
   "id": "97e12a1c",
   "metadata": {},
   "source": [
    "--------------"
   ]
  },
  {
   "cell_type": "markdown",
   "id": "c24448b7",
   "metadata": {},
   "source": [
    "### 1. For people who were inactive at the start of the study and were active by the time the study ended, is there a pattern in terms of age and gender?"
   ]
  },
  {
   "cell_type": "code",
   "execution_count": 50,
   "id": "ea4e10d5",
   "metadata": {},
   "outputs": [
    {
     "data": {
      "image/png": "[encoded data removed]",
      "text/plain": [
       "<Figure size 720x432 with 1 Axes>"
      ]
     },
     "metadata": {
      "needs_background": "light"
     },
     "output_type": "display_data"
    }
   ],
   "source": [
    "df[(df['tiprel_1mes'] == 'I') & (df['ind_actividad_cliente'] == 1)].groupby(['age','gender']).size().unstack().plot(kind='hist',stacked=True, bins=[0,10,20,30,40,50,60,70,80,90,100], rwidth=0.8, figsize=(10,6));\n",
    "plt.title(\"Histogram for Gender - Age wise\");"
   ]
  },
  {
   "cell_type": "markdown",
   "id": "116aad0d",
   "metadata": {},
   "source": [
    "#### Yes, there is a pattern. \n",
    "- Between the age 1 - 20 yrs - Both the genders were equally inactive at the start of the study and were active by the time the study ended\n",
    "\n",
    "\n",
    "- Between the age 21 - 60 yrs - Female were more compared to Male\n",
    "\n",
    "\n",
    "- Between the age 61 - 100 yrs+ - Male were more compared to Female\n"
   ]
  },
  {
   "cell_type": "markdown",
   "id": "6703def4",
   "metadata": {},
   "source": [
    " "
   ]
  },
  {
   "cell_type": "markdown",
   "id": "705251c0",
   "metadata": {},
   "source": [
    " "
   ]
  },
  {
   "cell_type": "markdown",
   "id": "3b37dd0d",
   "metadata": {},
   "source": [
    " -------------------------"
   ]
  },
  {
   "cell_type": "markdown",
   "id": "0f0543bc",
   "metadata": {},
   "source": [
    "----------------------"
   ]
  },
  {
   "cell_type": "markdown",
   "id": "97809b4c",
   "metadata": {},
   "source": [
    "### 2. Do people with more than average annual income tend to have relatively high activity rates compared to people with less than average annual income?"
   ]
  },
  {
   "cell_type": "code",
   "execution_count": 51,
   "id": "3e5208ab",
   "metadata": {},
   "outputs": [
    {
     "data": {
      "text/plain": [
       "(1216, 10)"
      ]
     },
     "execution_count": 51,
     "metadata": {},
     "output_type": "execute_result"
    }
   ],
   "source": [
    "df.loc[(df['gross_income'] >= 134196) & (df['num_credit_cards'] == 1)].shape"
   ]
  },
  {
   "cell_type": "code",
   "execution_count": 52,
   "id": "ff624a4a",
   "metadata": {},
   "outputs": [
    {
     "data": {
      "text/plain": [
       "(1479, 10)"
      ]
     },
     "execution_count": 52,
     "metadata": {},
     "output_type": "execute_result"
    }
   ],
   "source": [
    "df.loc[(df['gross_income'] <= 134196) & (df['num_credit_cards'] == 1)].shape"
   ]
  },
  {
   "cell_type": "markdown",
   "id": "3b215c56",
   "metadata": {},
   "source": [
    "#### The company has issued more number of credit cards (through cross sell) to customers whose annual income was less than average."
   ]
  },
  {
   "cell_type": "code",
   "execution_count": 53,
   "id": "c9e509b5",
   "metadata": {},
   "outputs": [
    {
     "data": {
      "text/plain": [
       "(14482, 10)"
      ]
     },
     "execution_count": 53,
     "metadata": {},
     "output_type": "execute_result"
    }
   ],
   "source": [
    "df.loc[(df['gross_income'] >= 134196) & (df['num_Products'] >= 1)].shape"
   ]
  },
  {
   "cell_type": "code",
   "execution_count": 54,
   "id": "8d257645",
   "metadata": {},
   "outputs": [
    {
     "data": {
      "text/plain": [
       "(29975, 10)"
      ]
     },
     "execution_count": 54,
     "metadata": {},
     "output_type": "execute_result"
    }
   ],
   "source": [
    "df.loc[(df['gross_income'] <= 134196) & (df['num_Products'] >= 1)].shape"
   ]
  },
  {
   "cell_type": "markdown",
   "id": "8284712b",
   "metadata": {},
   "source": [
    "#### Customers whose annual income was lesser than average has purchased more financial products (through cross sell)"
   ]
  },
  {
   "cell_type": "code",
   "execution_count": 55,
   "id": "7650a269",
   "metadata": {},
   "outputs": [
    {
     "data": {
      "text/plain": [
       "(165, 10)"
      ]
     },
     "execution_count": 55,
     "metadata": {},
     "output_type": "execute_result"
    }
   ],
   "source": [
    "df.loc[(df['gross_income'] >= 134196) & (df['num_loans'] == 1)].shape"
   ]
  },
  {
   "cell_type": "code",
   "execution_count": 56,
   "id": "8f344f40",
   "metadata": {},
   "outputs": [
    {
     "data": {
      "text/plain": [
       "(341, 10)"
      ]
     },
     "execution_count": 56,
     "metadata": {},
     "output_type": "execute_result"
    }
   ],
   "source": [
    "df.loc[(df['gross_income'] <= 134196) & (df['num_loans'] == 1)].shape"
   ]
  },
  {
   "cell_type": "markdown",
   "id": "a2a60d0c",
   "metadata": {},
   "source": [
    "#### More loans were disbursed to the customers (through cross sell) whose annual income was lesser than average"
   ]
  },
  {
   "cell_type": "markdown",
   "id": "5f7c77fe",
   "metadata": {},
   "source": [
    "---------------------------------------"
   ]
  },
  {
   "cell_type": "code",
   "execution_count": 57,
   "id": "f427b35c",
   "metadata": {},
   "outputs": [
    {
     "data": {
      "image/png": "[encoded data removed]",
      "text/plain": [
       "<Figure size 1080x360 with 3 Axes>"
      ]
     },
     "metadata": {
      "needs_background": "light"
     },
     "output_type": "display_data"
    }
   ],
   "source": [
    "fig, axes = plt.subplots(1, 3, figsize=(15,5))\n",
    "sns.countplot((df.loc[(df['gross_income'] >= 134196)].num_credit_cards), ax=axes[0], palette='magma')\n",
    "sns.countplot((df.loc[(df['gross_income'] >= 134196)].num_Products), ax=axes[1], palette='icefire')\n",
    "sns.countplot((df.loc[(df['gross_income'] >= 134196)].num_loans), ax=axes[2], palette='viridis')\n",
    "plt.suptitle(\"Income > Average Income\")\n",
    "plt.show()"
   ]
  },
  {
   "cell_type": "code",
   "execution_count": 58,
   "id": "1abdd88b",
   "metadata": {},
   "outputs": [
    {
     "data": {
      "image/png": "[encoded data removed]",
      "text/plain": [
       "<Figure size 1080x360 with 3 Axes>"
      ]
     },
     "metadata": {
      "needs_background": "light"
     },
     "output_type": "display_data"
    }
   ],
   "source": [
    "fig, axes = plt.subplots(1, 3, figsize=(15,5))\n",
    "sns.countplot((df.loc[(df['gross_income'] <= 134196)].num_credit_cards), ax=axes[0], palette='magma')\n",
    "sns.countplot((df.loc[(df['gross_income'] <= 134196)].num_Products), ax=axes[1], palette='icefire')\n",
    "sns.countplot((df.loc[(df['gross_income'] <= 134196)].num_loans), ax=axes[2], palette='viridis')\n",
    "plt.suptitle(\"Income < Average Income\")\n",
    "plt.show()"
   ]
  },
  {
   "cell_type": "markdown",
   "id": "324038b2",
   "metadata": {},
   "source": [
    "------------------"
   ]
  },
  {
   "cell_type": "markdown",
   "id": "609fba6a",
   "metadata": {},
   "source": [
    "-----------------"
   ]
  },
  {
   "cell_type": "markdown",
   "id": "6e694fad",
   "metadata": {},
   "source": [
    "### 3. What is the relationship between the number of products owned by customers who were active at the start and at the end vs those who were active at the start but were inactive at the end of the study period"
   ]
  },
  {
   "cell_type": "code",
   "execution_count": 59,
   "id": "76e262fb",
   "metadata": {},
   "outputs": [
    {
     "data": {
      "image/png": "[encoded data removed]",
      "text/plain": [
       "<Figure size 432x288 with 1 Axes>"
      ]
     },
     "metadata": {
      "needs_background": "light"
     },
     "output_type": "display_data"
    }
   ],
   "source": [
    "sns.countplot(df.loc[(df['tiprel_1mes'] == 'A') & (df['ind_actividad_cliente'] == 1)].num_Products, palette='crest');\n",
    "plt.title(\"Active at the start and active at the end\");"
   ]
  },
  {
   "cell_type": "code",
   "execution_count": 60,
   "id": "3a8886ce",
   "metadata": {},
   "outputs": [
    {
     "data": {
      "image/png": "[encoded data removed]",
      "text/plain": [
       "<Figure size 432x288 with 1 Axes>"
      ]
     },
     "metadata": {
      "needs_background": "light"
     },
     "output_type": "display_data"
    }
   ],
   "source": [
    "sns.countplot(df.loc[(df['tiprel_1mes'] == 'A') & (df['ind_actividad_cliente'] == 0)].num_Products, palette='crest');\n",
    "plt.title(\"Active at the start, inactive at the end\");"
   ]
  },
  {
   "cell_type": "markdown",
   "id": "e54dd67d",
   "metadata": {},
   "source": [
    "### Inference\n",
    "\n",
    "##### Customers who were active at the start and at the end:\n",
    "   -   Max number of products purchased by a single customer is 13\n",
    "   -   81 customers purchased 10 or more than 10 products \n",
    "   -   99% of the customers (22835 customers) purchased atleast 1 product.\n",
    "\n",
    "\n",
    "\n",
    "##### Customers who were active at the start and inactive at the end:\n",
    " -  Did not purchase more than 4 products\n",
    " -  87% of the customers either did not purchase any product or purchase only one product"
   ]
  },
  {
   "cell_type": "markdown",
   "id": "54267f73",
   "metadata": {},
   "source": [
    "----------------"
   ]
  },
  {
   "cell_type": "markdown",
   "id": "06570b4b",
   "metadata": {},
   "source": [
    "-----------------"
   ]
  },
  {
   "cell_type": "markdown",
   "id": "76cddc0b",
   "metadata": {},
   "source": [
    "### 4. How people who display consistent behaviour (active at start and active at end,inactive at start and inactive at end) differ from people who display a change in theirbehaviour (active at start but inactive at the end or inactive at start but active atend)?"
   ]
  },
  {
   "cell_type": "code",
   "execution_count": 61,
   "id": "dde8bcdd",
   "metadata": {},
   "outputs": [],
   "source": [
    "#Consistent Behaviour\n",
    "consistentdf = df.loc[((df['tiprel_1mes'] == 'A') & (df['ind_actividad_cliente'] == 1)) | (df['tiprel_1mes'] == 'I') & (df['ind_actividad_cliente'] == 0)]"
   ]
  },
  {
   "cell_type": "code",
   "execution_count": 62,
   "id": "f04790cb",
   "metadata": {},
   "outputs": [],
   "source": [
    "#Inconsistent Behaviour\n",
    "inconsistentdf = df.loc[((df['tiprel_1mes'] == 'A') & (df['ind_actividad_cliente'] == 0)) | (df['tiprel_1mes'] == 'I') & (df['ind_actividad_cliente'] == 1)]"
   ]
  },
  {
   "cell_type": "code",
   "execution_count": 63,
   "id": "f2a018ad",
   "metadata": {},
   "outputs": [
    {
     "data": {
      "text/html": [
       "<div>\n",
       "<style scoped>\n",
       "    .dataframe tbody tr th:only-of-type {\n",
       "        vertical-align: middle;\n",
       "    }\n",
       "\n",
       "    .dataframe tbody tr th {\n",
       "        vertical-align: top;\n",
       "    }\n",
       "\n",
       "    .dataframe thead th {\n",
       "        text-align: right;\n",
       "    }\n",
       "</style>\n",
       "<table border=\"1\" class=\"dataframe\">\n",
       "  <thead>\n",
       "    <tr style=\"text-align: right;\">\n",
       "      <th></th>\n",
       "      <th>count</th>\n",
       "      <th>mean</th>\n",
       "      <th>std</th>\n",
       "      <th>min</th>\n",
       "      <th>25%</th>\n",
       "      <th>50%</th>\n",
       "      <th>75%</th>\n",
       "      <th>max</th>\n",
       "    </tr>\n",
       "  </thead>\n",
       "  <tbody>\n",
       "    <tr>\n",
       "      <th>age</th>\n",
       "      <td>49494.00000</td>\n",
       "      <td>40.65545</td>\n",
       "      <td>17.09751</td>\n",
       "      <td>2.00000</td>\n",
       "      <td>25.00000</td>\n",
       "      <td>39.00000</td>\n",
       "      <td>51.00000</td>\n",
       "      <td>112.00000</td>\n",
       "    </tr>\n",
       "    <tr>\n",
       "      <th>gross_income</th>\n",
       "      <td>49494.00000</td>\n",
       "      <td>134789.65633</td>\n",
       "      <td>248092.94610</td>\n",
       "      <td>2336.01000</td>\n",
       "      <td>68712.24000</td>\n",
       "      <td>101729.50500</td>\n",
       "      <td>156720.05250</td>\n",
       "      <td>28894395.51000</td>\n",
       "    </tr>\n",
       "    <tr>\n",
       "      <th>num_credit_cards</th>\n",
       "      <td>49494.00000</td>\n",
       "      <td>0.05409</td>\n",
       "      <td>0.22619</td>\n",
       "      <td>0.00000</td>\n",
       "      <td>0.00000</td>\n",
       "      <td>0.00000</td>\n",
       "      <td>0.00000</td>\n",
       "      <td>1.00000</td>\n",
       "    </tr>\n",
       "    <tr>\n",
       "      <th>ind_actividad_cliente</th>\n",
       "      <td>49494.00000</td>\n",
       "      <td>0.46280</td>\n",
       "      <td>0.49862</td>\n",
       "      <td>0.00000</td>\n",
       "      <td>0.00000</td>\n",
       "      <td>0.00000</td>\n",
       "      <td>1.00000</td>\n",
       "      <td>1.00000</td>\n",
       "    </tr>\n",
       "    <tr>\n",
       "      <th>num_Products</th>\n",
       "      <td>49494.00000</td>\n",
       "      <td>1.58084</td>\n",
       "      <td>1.63027</td>\n",
       "      <td>0.00000</td>\n",
       "      <td>1.00000</td>\n",
       "      <td>1.00000</td>\n",
       "      <td>2.00000</td>\n",
       "      <td>13.00000</td>\n",
       "    </tr>\n",
       "    <tr>\n",
       "      <th>num_loans</th>\n",
       "      <td>49494.00000</td>\n",
       "      <td>0.00972</td>\n",
       "      <td>0.09810</td>\n",
       "      <td>0.00000</td>\n",
       "      <td>0.00000</td>\n",
       "      <td>0.00000</td>\n",
       "      <td>0.00000</td>\n",
       "      <td>1.00000</td>\n",
       "    </tr>\n",
       "    <tr>\n",
       "      <th>duration</th>\n",
       "      <td>49494.00000</td>\n",
       "      <td>2905.25696</td>\n",
       "      <td>2017.98706</td>\n",
       "      <td>366.00000</td>\n",
       "      <td>1131.00000</td>\n",
       "      <td>2025.00000</td>\n",
       "      <td>4654.00000</td>\n",
       "      <td>7909.00000</td>\n",
       "    </tr>\n",
       "  </tbody>\n",
       "</table>\n",
       "</div>"
      ],
      "text/plain": [
       "                             count          mean           std         min  \\\n",
       "age                    49494.00000      40.65545      17.09751     2.00000   \n",
       "gross_income           49494.00000  134789.65633  248092.94610  2336.01000   \n",
       "num_credit_cards       49494.00000       0.05409       0.22619     0.00000   \n",
       "ind_actividad_cliente  49494.00000       0.46280       0.49862     0.00000   \n",
       "num_Products           49494.00000       1.58084       1.63027     0.00000   \n",
       "num_loans              49494.00000       0.00972       0.09810     0.00000   \n",
       "duration               49494.00000    2905.25696    2017.98706   366.00000   \n",
       "\n",
       "                               25%           50%           75%             max  \n",
       "age                       25.00000      39.00000      51.00000       112.00000  \n",
       "gross_income           68712.24000  101729.50500  156720.05250  28894395.51000  \n",
       "num_credit_cards           0.00000       0.00000       0.00000         1.00000  \n",
       "ind_actividad_cliente      0.00000       0.00000       1.00000         1.00000  \n",
       "num_Products               1.00000       1.00000       2.00000        13.00000  \n",
       "num_loans                  0.00000       0.00000       0.00000         1.00000  \n",
       "duration                1131.00000    2025.00000    4654.00000      7909.00000  "
      ]
     },
     "execution_count": 63,
     "metadata": {},
     "output_type": "execute_result"
    }
   ],
   "source": [
    "consistentdf.describe().apply(lambda s: s.apply('{0:.5f}'.format)).transpose()"
   ]
  },
  {
   "cell_type": "code",
   "execution_count": 64,
   "id": "a653c00f",
   "metadata": {},
   "outputs": [
    {
     "data": {
      "text/html": [
       "<div>\n",
       "<style scoped>\n",
       "    .dataframe tbody tr th:only-of-type {\n",
       "        vertical-align: middle;\n",
       "    }\n",
       "\n",
       "    .dataframe tbody tr th {\n",
       "        vertical-align: top;\n",
       "    }\n",
       "\n",
       "    .dataframe thead th {\n",
       "        text-align: right;\n",
       "    }\n",
       "</style>\n",
       "<table border=\"1\" class=\"dataframe\">\n",
       "  <thead>\n",
       "    <tr style=\"text-align: right;\">\n",
       "      <th></th>\n",
       "      <th>count</th>\n",
       "      <th>unique</th>\n",
       "      <th>top</th>\n",
       "      <th>freq</th>\n",
       "    </tr>\n",
       "  </thead>\n",
       "  <tbody>\n",
       "    <tr>\n",
       "      <th>gender</th>\n",
       "      <td>49494</td>\n",
       "      <td>2</td>\n",
       "      <td>F</td>\n",
       "      <td>27112</td>\n",
       "    </tr>\n",
       "    <tr>\n",
       "      <th>segment</th>\n",
       "      <td>49494</td>\n",
       "      <td>3</td>\n",
       "      <td>Individuals</td>\n",
       "      <td>29607</td>\n",
       "    </tr>\n",
       "    <tr>\n",
       "      <th>tiprel_1mes</th>\n",
       "      <td>49494</td>\n",
       "      <td>2</td>\n",
       "      <td>I</td>\n",
       "      <td>26588</td>\n",
       "    </tr>\n",
       "  </tbody>\n",
       "</table>\n",
       "</div>"
      ],
      "text/plain": [
       "             count unique          top   freq\n",
       "gender       49494      2            F  27112\n",
       "segment      49494      3  Individuals  29607\n",
       "tiprel_1mes  49494      2            I  26588"
      ]
     },
     "execution_count": 64,
     "metadata": {},
     "output_type": "execute_result"
    }
   ],
   "source": [
    "consistentdf.describe(include=object).transpose()"
   ]
  },
  {
   "cell_type": "code",
   "execution_count": 65,
   "id": "1dc7d6a2",
   "metadata": {},
   "outputs": [
    {
     "data": {
      "text/html": [
       "<div>\n",
       "<style scoped>\n",
       "    .dataframe tbody tr th:only-of-type {\n",
       "        vertical-align: middle;\n",
       "    }\n",
       "\n",
       "    .dataframe tbody tr th {\n",
       "        vertical-align: top;\n",
       "    }\n",
       "\n",
       "    .dataframe thead th {\n",
       "        text-align: right;\n",
       "    }\n",
       "</style>\n",
       "<table border=\"1\" class=\"dataframe\">\n",
       "  <thead>\n",
       "    <tr style=\"text-align: right;\">\n",
       "      <th></th>\n",
       "      <th>count</th>\n",
       "      <th>mean</th>\n",
       "      <th>std</th>\n",
       "      <th>min</th>\n",
       "      <th>25%</th>\n",
       "      <th>50%</th>\n",
       "      <th>75%</th>\n",
       "      <th>max</th>\n",
       "    </tr>\n",
       "  </thead>\n",
       "  <tbody>\n",
       "    <tr>\n",
       "      <th>age</th>\n",
       "      <td>4536.00000</td>\n",
       "      <td>42.05004</td>\n",
       "      <td>18.35497</td>\n",
       "      <td>2.00000</td>\n",
       "      <td>25.00000</td>\n",
       "      <td>41.00000</td>\n",
       "      <td>53.00000</td>\n",
       "      <td>105.00000</td>\n",
       "    </tr>\n",
       "    <tr>\n",
       "      <th>gross_income</th>\n",
       "      <td>4536.00000</td>\n",
       "      <td>127726.40208</td>\n",
       "      <td>113425.11628</td>\n",
       "      <td>9049.62000</td>\n",
       "      <td>67465.80750</td>\n",
       "      <td>99893.04000</td>\n",
       "      <td>152412.08250</td>\n",
       "      <td>3227686.95000</td>\n",
       "    </tr>\n",
       "    <tr>\n",
       "      <th>num_credit_cards</th>\n",
       "      <td>4536.00000</td>\n",
       "      <td>0.00397</td>\n",
       "      <td>0.06288</td>\n",
       "      <td>0.00000</td>\n",
       "      <td>0.00000</td>\n",
       "      <td>0.00000</td>\n",
       "      <td>0.00000</td>\n",
       "      <td>1.00000</td>\n",
       "    </tr>\n",
       "    <tr>\n",
       "      <th>ind_actividad_cliente</th>\n",
       "      <td>4536.00000</td>\n",
       "      <td>0.53748</td>\n",
       "      <td>0.49865</td>\n",
       "      <td>0.00000</td>\n",
       "      <td>0.00000</td>\n",
       "      <td>1.00000</td>\n",
       "      <td>1.00000</td>\n",
       "      <td>1.00000</td>\n",
       "    </tr>\n",
       "    <tr>\n",
       "      <th>num_Products</th>\n",
       "      <td>4536.00000</td>\n",
       "      <td>1.04696</td>\n",
       "      <td>0.65658</td>\n",
       "      <td>0.00000</td>\n",
       "      <td>1.00000</td>\n",
       "      <td>1.00000</td>\n",
       "      <td>1.00000</td>\n",
       "      <td>4.00000</td>\n",
       "    </tr>\n",
       "    <tr>\n",
       "      <th>num_loans</th>\n",
       "      <td>4536.00000</td>\n",
       "      <td>0.00551</td>\n",
       "      <td>0.07404</td>\n",
       "      <td>0.00000</td>\n",
       "      <td>0.00000</td>\n",
       "      <td>0.00000</td>\n",
       "      <td>0.00000</td>\n",
       "      <td>1.00000</td>\n",
       "    </tr>\n",
       "    <tr>\n",
       "      <th>duration</th>\n",
       "      <td>4536.00000</td>\n",
       "      <td>3008.64418</td>\n",
       "      <td>2131.64643</td>\n",
       "      <td>366.00000</td>\n",
       "      <td>1073.00000</td>\n",
       "      <td>2310.50000</td>\n",
       "      <td>5039.00000</td>\n",
       "      <td>7879.00000</td>\n",
       "    </tr>\n",
       "  </tbody>\n",
       "</table>\n",
       "</div>"
      ],
      "text/plain": [
       "                            count          mean           std         min  \\\n",
       "age                    4536.00000      42.05004      18.35497     2.00000   \n",
       "gross_income           4536.00000  127726.40208  113425.11628  9049.62000   \n",
       "num_credit_cards       4536.00000       0.00397       0.06288     0.00000   \n",
       "ind_actividad_cliente  4536.00000       0.53748       0.49865     0.00000   \n",
       "num_Products           4536.00000       1.04696       0.65658     0.00000   \n",
       "num_loans              4536.00000       0.00551       0.07404     0.00000   \n",
       "duration               4536.00000    3008.64418    2131.64643   366.00000   \n",
       "\n",
       "                               25%          50%           75%            max  \n",
       "age                       25.00000     41.00000      53.00000      105.00000  \n",
       "gross_income           67465.80750  99893.04000  152412.08250  3227686.95000  \n",
       "num_credit_cards           0.00000      0.00000       0.00000        1.00000  \n",
       "ind_actividad_cliente      0.00000      1.00000       1.00000        1.00000  \n",
       "num_Products               1.00000      1.00000       1.00000        4.00000  \n",
       "num_loans                  0.00000      0.00000       0.00000        1.00000  \n",
       "duration                1073.00000   2310.50000    5039.00000     7879.00000  "
      ]
     },
     "execution_count": 65,
     "metadata": {},
     "output_type": "execute_result"
    }
   ],
   "source": [
    "inconsistentdf.describe().apply(lambda s: s.apply('{0:.5f}'.format)).transpose()"
   ]
  },
  {
   "cell_type": "code",
   "execution_count": 66,
   "id": "b9f75930",
   "metadata": {},
   "outputs": [
    {
     "data": {
      "text/html": [
       "<div>\n",
       "<style scoped>\n",
       "    .dataframe tbody tr th:only-of-type {\n",
       "        vertical-align: middle;\n",
       "    }\n",
       "\n",
       "    .dataframe tbody tr th {\n",
       "        vertical-align: top;\n",
       "    }\n",
       "\n",
       "    .dataframe thead th {\n",
       "        text-align: right;\n",
       "    }\n",
       "</style>\n",
       "<table border=\"1\" class=\"dataframe\">\n",
       "  <thead>\n",
       "    <tr style=\"text-align: right;\">\n",
       "      <th></th>\n",
       "      <th>count</th>\n",
       "      <th>unique</th>\n",
       "      <th>top</th>\n",
       "      <th>freq</th>\n",
       "    </tr>\n",
       "  </thead>\n",
       "  <tbody>\n",
       "    <tr>\n",
       "      <th>gender</th>\n",
       "      <td>4536</td>\n",
       "      <td>2</td>\n",
       "      <td>F</td>\n",
       "      <td>2569</td>\n",
       "    </tr>\n",
       "    <tr>\n",
       "      <th>segment</th>\n",
       "      <td>4536</td>\n",
       "      <td>3</td>\n",
       "      <td>Individuals</td>\n",
       "      <td>3000</td>\n",
       "    </tr>\n",
       "    <tr>\n",
       "      <th>tiprel_1mes</th>\n",
       "      <td>4536</td>\n",
       "      <td>2</td>\n",
       "      <td>I</td>\n",
       "      <td>2438</td>\n",
       "    </tr>\n",
       "  </tbody>\n",
       "</table>\n",
       "</div>"
      ],
      "text/plain": [
       "            count unique          top  freq\n",
       "gender       4536      2            F  2569\n",
       "segment      4536      3  Individuals  3000\n",
       "tiprel_1mes  4536      2            I  2438"
      ]
     },
     "execution_count": 66,
     "metadata": {},
     "output_type": "execute_result"
    }
   ],
   "source": [
    "inconsistentdf.describe(include=object).transpose()"
   ]
  },
  {
   "cell_type": "markdown",
   "id": "611f3789",
   "metadata": {},
   "source": [
    "#### Inference\n",
    "\n",
    "\n",
    " - The max age of a consistent customer = 112 whereas the max the age of an inconsistent customer = 105.\n",
    " - The diff between the minimum gross income of consistent customer and minimum gross income of inconsistent customer = $6713 \n",
    " - The max purchase of a consistent customer is 14 whereas the max the purchase of an inconsistent customer is just 4."
   ]
  },
  {
   "cell_type": "markdown",
   "id": "a8c1d4bd",
   "metadata": {},
   "source": [
    "----------------------"
   ]
  },
  {
   "cell_type": "markdown",
   "id": "92e04dbd",
   "metadata": {},
   "source": [
    "----------------"
   ]
  },
  {
   "cell_type": "markdown",
   "id": "69231d6e",
   "metadata": {},
   "source": [
    "### 5. Generate elaborate profiles for the following four groups:\n",
    "- a. Active at the start but inactive at the end\n",
    "- b. Active at the start and active by the end\n",
    "- c. Inactive at the start but active at the end\n",
    "- d. Inactive at the start and inactive at the end"
   ]
  },
  {
   "cell_type": "code",
   "execution_count": 67,
   "id": "39209be2",
   "metadata": {},
   "outputs": [],
   "source": [
    "#Active in the beginning, Active at the end\n",
    "AA = df.loc[((df['tiprel_1mes'] == 'A') & (df['ind_actividad_cliente'] == 1))]"
   ]
  },
  {
   "cell_type": "code",
   "execution_count": 68,
   "id": "cbfefe25",
   "metadata": {},
   "outputs": [
    {
     "data": {
      "text/html": [
       "<div>\n",
       "<style scoped>\n",
       "    .dataframe tbody tr th:only-of-type {\n",
       "        vertical-align: middle;\n",
       "    }\n",
       "\n",
       "    .dataframe tbody tr th {\n",
       "        vertical-align: top;\n",
       "    }\n",
       "\n",
       "    .dataframe thead th {\n",
       "        text-align: right;\n",
       "    }\n",
       "</style>\n",
       "<table border=\"1\" class=\"dataframe\">\n",
       "  <thead>\n",
       "    <tr style=\"text-align: right;\">\n",
       "      <th></th>\n",
       "      <th>count</th>\n",
       "      <th>mean</th>\n",
       "      <th>std</th>\n",
       "      <th>min</th>\n",
       "      <th>25%</th>\n",
       "      <th>50%</th>\n",
       "      <th>75%</th>\n",
       "      <th>max</th>\n",
       "    </tr>\n",
       "  </thead>\n",
       "  <tbody>\n",
       "    <tr>\n",
       "      <th>age</th>\n",
       "      <td>22906.00000</td>\n",
       "      <td>43.67712</td>\n",
       "      <td>16.06504</td>\n",
       "      <td>2.00000</td>\n",
       "      <td>32.00000</td>\n",
       "      <td>43.00000</td>\n",
       "      <td>52.00000</td>\n",
       "      <td>112.00000</td>\n",
       "    </tr>\n",
       "    <tr>\n",
       "      <th>gross_income</th>\n",
       "      <td>22906.00000</td>\n",
       "      <td>142333.73373</td>\n",
       "      <td>222933.48348</td>\n",
       "      <td>5340.93000</td>\n",
       "      <td>74152.50750</td>\n",
       "      <td>110413.96500</td>\n",
       "      <td>167160.34500</td>\n",
       "      <td>13268621.28000</td>\n",
       "    </tr>\n",
       "    <tr>\n",
       "      <th>num_credit_cards</th>\n",
       "      <td>22906.00000</td>\n",
       "      <td>0.11678</td>\n",
       "      <td>0.32117</td>\n",
       "      <td>0.00000</td>\n",
       "      <td>0.00000</td>\n",
       "      <td>0.00000</td>\n",
       "      <td>0.00000</td>\n",
       "      <td>1.00000</td>\n",
       "    </tr>\n",
       "    <tr>\n",
       "      <th>ind_actividad_cliente</th>\n",
       "      <td>22906.00000</td>\n",
       "      <td>1.00000</td>\n",
       "      <td>0.00000</td>\n",
       "      <td>1.00000</td>\n",
       "      <td>1.00000</td>\n",
       "      <td>1.00000</td>\n",
       "      <td>1.00000</td>\n",
       "      <td>1.00000</td>\n",
       "    </tr>\n",
       "    <tr>\n",
       "      <th>num_Products</th>\n",
       "      <td>22906.00000</td>\n",
       "      <td>2.58063</td>\n",
       "      <td>1.87933</td>\n",
       "      <td>0.00000</td>\n",
       "      <td>1.00000</td>\n",
       "      <td>2.00000</td>\n",
       "      <td>3.00000</td>\n",
       "      <td>13.00000</td>\n",
       "    </tr>\n",
       "    <tr>\n",
       "      <th>num_loans</th>\n",
       "      <td>22906.00000</td>\n",
       "      <td>0.02100</td>\n",
       "      <td>0.14338</td>\n",
       "      <td>0.00000</td>\n",
       "      <td>0.00000</td>\n",
       "      <td>0.00000</td>\n",
       "      <td>0.00000</td>\n",
       "      <td>1.00000</td>\n",
       "    </tr>\n",
       "    <tr>\n",
       "      <th>duration</th>\n",
       "      <td>22906.00000</td>\n",
       "      <td>3304.76910</td>\n",
       "      <td>2128.15378</td>\n",
       "      <td>366.00000</td>\n",
       "      <td>1203.00000</td>\n",
       "      <td>3202.00000</td>\n",
       "      <td>5266.00000</td>\n",
       "      <td>7909.00000</td>\n",
       "    </tr>\n",
       "  </tbody>\n",
       "</table>\n",
       "</div>"
      ],
      "text/plain": [
       "                             count          mean           std         min  \\\n",
       "age                    22906.00000      43.67712      16.06504     2.00000   \n",
       "gross_income           22906.00000  142333.73373  222933.48348  5340.93000   \n",
       "num_credit_cards       22906.00000       0.11678       0.32117     0.00000   \n",
       "ind_actividad_cliente  22906.00000       1.00000       0.00000     1.00000   \n",
       "num_Products           22906.00000       2.58063       1.87933     0.00000   \n",
       "num_loans              22906.00000       0.02100       0.14338     0.00000   \n",
       "duration               22906.00000    3304.76910    2128.15378   366.00000   \n",
       "\n",
       "                               25%           50%           75%             max  \n",
       "age                       32.00000      43.00000      52.00000       112.00000  \n",
       "gross_income           74152.50750  110413.96500  167160.34500  13268621.28000  \n",
       "num_credit_cards           0.00000       0.00000       0.00000         1.00000  \n",
       "ind_actividad_cliente      1.00000       1.00000       1.00000         1.00000  \n",
       "num_Products               1.00000       2.00000       3.00000        13.00000  \n",
       "num_loans                  0.00000       0.00000       0.00000         1.00000  \n",
       "duration                1203.00000    3202.00000    5266.00000      7909.00000  "
      ]
     },
     "execution_count": 68,
     "metadata": {},
     "output_type": "execute_result"
    }
   ],
   "source": [
    "AA.describe().apply(lambda s: s.apply('{0:.5f}'.format)).transpose()"
   ]
  },
  {
   "cell_type": "code",
   "execution_count": 69,
   "id": "044e0363",
   "metadata": {},
   "outputs": [
    {
     "data": {
      "text/html": [
       "<div>\n",
       "<style scoped>\n",
       "    .dataframe tbody tr th:only-of-type {\n",
       "        vertical-align: middle;\n",
       "    }\n",
       "\n",
       "    .dataframe tbody tr th {\n",
       "        vertical-align: top;\n",
       "    }\n",
       "\n",
       "    .dataframe thead th {\n",
       "        text-align: right;\n",
       "    }\n",
       "</style>\n",
       "<table border=\"1\" class=\"dataframe\">\n",
       "  <thead>\n",
       "    <tr style=\"text-align: right;\">\n",
       "      <th></th>\n",
       "      <th>count</th>\n",
       "      <th>unique</th>\n",
       "      <th>top</th>\n",
       "      <th>freq</th>\n",
       "    </tr>\n",
       "  </thead>\n",
       "  <tbody>\n",
       "    <tr>\n",
       "      <th>gender</th>\n",
       "      <td>22906</td>\n",
       "      <td>2</td>\n",
       "      <td>F</td>\n",
       "      <td>13357</td>\n",
       "    </tr>\n",
       "    <tr>\n",
       "      <th>segment</th>\n",
       "      <td>22906</td>\n",
       "      <td>3</td>\n",
       "      <td>Individuals</td>\n",
       "      <td>15773</td>\n",
       "    </tr>\n",
       "    <tr>\n",
       "      <th>tiprel_1mes</th>\n",
       "      <td>22906</td>\n",
       "      <td>1</td>\n",
       "      <td>A</td>\n",
       "      <td>22906</td>\n",
       "    </tr>\n",
       "  </tbody>\n",
       "</table>\n",
       "</div>"
      ],
      "text/plain": [
       "             count unique          top   freq\n",
       "gender       22906      2            F  13357\n",
       "segment      22906      3  Individuals  15773\n",
       "tiprel_1mes  22906      1            A  22906"
      ]
     },
     "execution_count": 69,
     "metadata": {},
     "output_type": "execute_result"
    }
   ],
   "source": [
    "AA.describe(include=object).transpose()"
   ]
  },
  {
   "cell_type": "markdown",
   "id": "f6015113",
   "metadata": {},
   "source": [
    "-------------"
   ]
  },
  {
   "cell_type": "code",
   "execution_count": 70,
   "id": "ee4cbb57",
   "metadata": {},
   "outputs": [],
   "source": [
    "#Active in the beginning, Inactive at the end\n",
    "AI = df.loc[((df['tiprel_1mes'] == 'A') & (df['ind_actividad_cliente'] == 0))]"
   ]
  },
  {
   "cell_type": "code",
   "execution_count": 71,
   "id": "71b1b9cd",
   "metadata": {},
   "outputs": [
    {
     "data": {
      "text/html": [
       "<div>\n",
       "<style scoped>\n",
       "    .dataframe tbody tr th:only-of-type {\n",
       "        vertical-align: middle;\n",
       "    }\n",
       "\n",
       "    .dataframe tbody tr th {\n",
       "        vertical-align: top;\n",
       "    }\n",
       "\n",
       "    .dataframe thead th {\n",
       "        text-align: right;\n",
       "    }\n",
       "</style>\n",
       "<table border=\"1\" class=\"dataframe\">\n",
       "  <thead>\n",
       "    <tr style=\"text-align: right;\">\n",
       "      <th></th>\n",
       "      <th>count</th>\n",
       "      <th>mean</th>\n",
       "      <th>std</th>\n",
       "      <th>min</th>\n",
       "      <th>25%</th>\n",
       "      <th>50%</th>\n",
       "      <th>75%</th>\n",
       "      <th>max</th>\n",
       "    </tr>\n",
       "  </thead>\n",
       "  <tbody>\n",
       "    <tr>\n",
       "      <th>age</th>\n",
       "      <td>2098.00000</td>\n",
       "      <td>44.72355</td>\n",
       "      <td>18.80053</td>\n",
       "      <td>5.00000</td>\n",
       "      <td>27.00000</td>\n",
       "      <td>44.00000</td>\n",
       "      <td>56.00000</td>\n",
       "      <td>104.00000</td>\n",
       "    </tr>\n",
       "    <tr>\n",
       "      <th>gross_income</th>\n",
       "      <td>2098.00000</td>\n",
       "      <td>133109.92583</td>\n",
       "      <td>132864.38345</td>\n",
       "      <td>14135.61000</td>\n",
       "      <td>68242.50000</td>\n",
       "      <td>103546.15500</td>\n",
       "      <td>155856.83250</td>\n",
       "      <td>3227686.95000</td>\n",
       "    </tr>\n",
       "    <tr>\n",
       "      <th>num_credit_cards</th>\n",
       "      <td>2098.00000</td>\n",
       "      <td>0.00667</td>\n",
       "      <td>0.08143</td>\n",
       "      <td>0.00000</td>\n",
       "      <td>0.00000</td>\n",
       "      <td>0.00000</td>\n",
       "      <td>0.00000</td>\n",
       "      <td>1.00000</td>\n",
       "    </tr>\n",
       "    <tr>\n",
       "      <th>ind_actividad_cliente</th>\n",
       "      <td>2098.00000</td>\n",
       "      <td>0.00000</td>\n",
       "      <td>0.00000</td>\n",
       "      <td>0.00000</td>\n",
       "      <td>0.00000</td>\n",
       "      <td>0.00000</td>\n",
       "      <td>0.00000</td>\n",
       "      <td>0.00000</td>\n",
       "    </tr>\n",
       "    <tr>\n",
       "      <th>num_Products</th>\n",
       "      <td>2098.00000</td>\n",
       "      <td>0.77931</td>\n",
       "      <td>0.68738</td>\n",
       "      <td>0.00000</td>\n",
       "      <td>0.00000</td>\n",
       "      <td>1.00000</td>\n",
       "      <td>1.00000</td>\n",
       "      <td>4.00000</td>\n",
       "    </tr>\n",
       "    <tr>\n",
       "      <th>num_loans</th>\n",
       "      <td>2098.00000</td>\n",
       "      <td>0.01192</td>\n",
       "      <td>0.10853</td>\n",
       "      <td>0.00000</td>\n",
       "      <td>0.00000</td>\n",
       "      <td>0.00000</td>\n",
       "      <td>0.00000</td>\n",
       "      <td>1.00000</td>\n",
       "    </tr>\n",
       "    <tr>\n",
       "      <th>duration</th>\n",
       "      <td>2098.00000</td>\n",
       "      <td>3427.45043</td>\n",
       "      <td>2327.81592</td>\n",
       "      <td>366.00000</td>\n",
       "      <td>1010.25000</td>\n",
       "      <td>3723.00000</td>\n",
       "      <td>5462.50000</td>\n",
       "      <td>7794.00000</td>\n",
       "    </tr>\n",
       "  </tbody>\n",
       "</table>\n",
       "</div>"
      ],
      "text/plain": [
       "                            count          mean           std          min  \\\n",
       "age                    2098.00000      44.72355      18.80053      5.00000   \n",
       "gross_income           2098.00000  133109.92583  132864.38345  14135.61000   \n",
       "num_credit_cards       2098.00000       0.00667       0.08143      0.00000   \n",
       "ind_actividad_cliente  2098.00000       0.00000       0.00000      0.00000   \n",
       "num_Products           2098.00000       0.77931       0.68738      0.00000   \n",
       "num_loans              2098.00000       0.01192       0.10853      0.00000   \n",
       "duration               2098.00000    3427.45043    2327.81592    366.00000   \n",
       "\n",
       "                               25%           50%           75%            max  \n",
       "age                       27.00000      44.00000      56.00000      104.00000  \n",
       "gross_income           68242.50000  103546.15500  155856.83250  3227686.95000  \n",
       "num_credit_cards           0.00000       0.00000       0.00000        1.00000  \n",
       "ind_actividad_cliente      0.00000       0.00000       0.00000        0.00000  \n",
       "num_Products               0.00000       1.00000       1.00000        4.00000  \n",
       "num_loans                  0.00000       0.00000       0.00000        1.00000  \n",
       "duration                1010.25000    3723.00000    5462.50000     7794.00000  "
      ]
     },
     "execution_count": 71,
     "metadata": {},
     "output_type": "execute_result"
    }
   ],
   "source": [
    "AI.describe().apply(lambda s: s.apply('{0:.5f}'.format)).transpose()"
   ]
  },
  {
   "cell_type": "code",
   "execution_count": 72,
   "id": "a5d637f2",
   "metadata": {},
   "outputs": [
    {
     "data": {
      "text/html": [
       "<div>\n",
       "<style scoped>\n",
       "    .dataframe tbody tr th:only-of-type {\n",
       "        vertical-align: middle;\n",
       "    }\n",
       "\n",
       "    .dataframe tbody tr th {\n",
       "        vertical-align: top;\n",
       "    }\n",
       "\n",
       "    .dataframe thead th {\n",
       "        text-align: right;\n",
       "    }\n",
       "</style>\n",
       "<table border=\"1\" class=\"dataframe\">\n",
       "  <thead>\n",
       "    <tr style=\"text-align: right;\">\n",
       "      <th></th>\n",
       "      <th>count</th>\n",
       "      <th>unique</th>\n",
       "      <th>top</th>\n",
       "      <th>freq</th>\n",
       "    </tr>\n",
       "  </thead>\n",
       "  <tbody>\n",
       "    <tr>\n",
       "      <th>gender</th>\n",
       "      <td>2098</td>\n",
       "      <td>2</td>\n",
       "      <td>F</td>\n",
       "      <td>1275</td>\n",
       "    </tr>\n",
       "    <tr>\n",
       "      <th>segment</th>\n",
       "      <td>2098</td>\n",
       "      <td>3</td>\n",
       "      <td>Individuals</td>\n",
       "      <td>1522</td>\n",
       "    </tr>\n",
       "    <tr>\n",
       "      <th>tiprel_1mes</th>\n",
       "      <td>2098</td>\n",
       "      <td>1</td>\n",
       "      <td>A</td>\n",
       "      <td>2098</td>\n",
       "    </tr>\n",
       "  </tbody>\n",
       "</table>\n",
       "</div>"
      ],
      "text/plain": [
       "            count unique          top  freq\n",
       "gender       2098      2            F  1275\n",
       "segment      2098      3  Individuals  1522\n",
       "tiprel_1mes  2098      1            A  2098"
      ]
     },
     "execution_count": 72,
     "metadata": {},
     "output_type": "execute_result"
    }
   ],
   "source": [
    "AI.describe(include=object).transpose()"
   ]
  },
  {
   "cell_type": "markdown",
   "id": "ac4793da",
   "metadata": {},
   "source": [
    "-------------"
   ]
  },
  {
   "cell_type": "code",
   "execution_count": 73,
   "id": "ad2b5a54",
   "metadata": {},
   "outputs": [],
   "source": [
    "#Inactive in the beginning, Inactive at the end\n",
    "II = df.loc[((df['tiprel_1mes'] == 'I') & (df['ind_actividad_cliente'] == 0))]"
   ]
  },
  {
   "cell_type": "code",
   "execution_count": 74,
   "id": "98faee1f",
   "metadata": {},
   "outputs": [
    {
     "data": {
      "text/html": [
       "<div>\n",
       "<style scoped>\n",
       "    .dataframe tbody tr th:only-of-type {\n",
       "        vertical-align: middle;\n",
       "    }\n",
       "\n",
       "    .dataframe tbody tr th {\n",
       "        vertical-align: top;\n",
       "    }\n",
       "\n",
       "    .dataframe thead th {\n",
       "        text-align: right;\n",
       "    }\n",
       "</style>\n",
       "<table border=\"1\" class=\"dataframe\">\n",
       "  <thead>\n",
       "    <tr style=\"text-align: right;\">\n",
       "      <th></th>\n",
       "      <th>count</th>\n",
       "      <th>mean</th>\n",
       "      <th>std</th>\n",
       "      <th>min</th>\n",
       "      <th>25%</th>\n",
       "      <th>50%</th>\n",
       "      <th>75%</th>\n",
       "      <th>max</th>\n",
       "    </tr>\n",
       "  </thead>\n",
       "  <tbody>\n",
       "    <tr>\n",
       "      <th>age</th>\n",
       "      <td>26588.00000</td>\n",
       "      <td>38.05224</td>\n",
       "      <td>17.52684</td>\n",
       "      <td>3.00000</td>\n",
       "      <td>24.00000</td>\n",
       "      <td>32.00000</td>\n",
       "      <td>48.00000</td>\n",
       "      <td>112.00000</td>\n",
       "    </tr>\n",
       "    <tr>\n",
       "      <th>gross_income</th>\n",
       "      <td>26588.00000</td>\n",
       "      <td>128290.30936</td>\n",
       "      <td>267713.88062</td>\n",
       "      <td>2336.01000</td>\n",
       "      <td>64591.25250</td>\n",
       "      <td>94768.90500</td>\n",
       "      <td>146964.39000</td>\n",
       "      <td>28894395.51000</td>\n",
       "    </tr>\n",
       "    <tr>\n",
       "      <th>num_credit_cards</th>\n",
       "      <td>26588.00000</td>\n",
       "      <td>0.00008</td>\n",
       "      <td>0.00867</td>\n",
       "      <td>0.00000</td>\n",
       "      <td>0.00000</td>\n",
       "      <td>0.00000</td>\n",
       "      <td>0.00000</td>\n",
       "      <td>1.00000</td>\n",
       "    </tr>\n",
       "    <tr>\n",
       "      <th>ind_actividad_cliente</th>\n",
       "      <td>26588.00000</td>\n",
       "      <td>0.00000</td>\n",
       "      <td>0.00000</td>\n",
       "      <td>0.00000</td>\n",
       "      <td>0.00000</td>\n",
       "      <td>0.00000</td>\n",
       "      <td>0.00000</td>\n",
       "      <td>0.00000</td>\n",
       "    </tr>\n",
       "    <tr>\n",
       "      <th>num_Products</th>\n",
       "      <td>26588.00000</td>\n",
       "      <td>0.71950</td>\n",
       "      <td>0.54930</td>\n",
       "      <td>0.00000</td>\n",
       "      <td>0.00000</td>\n",
       "      <td>1.00000</td>\n",
       "      <td>1.00000</td>\n",
       "      <td>4.00000</td>\n",
       "    </tr>\n",
       "    <tr>\n",
       "      <th>num_loans</th>\n",
       "      <td>26588.00000</td>\n",
       "      <td>0.00000</td>\n",
       "      <td>0.00000</td>\n",
       "      <td>0.00000</td>\n",
       "      <td>0.00000</td>\n",
       "      <td>0.00000</td>\n",
       "      <td>0.00000</td>\n",
       "      <td>0.00000</td>\n",
       "    </tr>\n",
       "    <tr>\n",
       "      <th>duration</th>\n",
       "      <td>26588.00000</td>\n",
       "      <td>2561.07067</td>\n",
       "      <td>1850.11752</td>\n",
       "      <td>366.00000</td>\n",
       "      <td>1084.00000</td>\n",
       "      <td>1774.00000</td>\n",
       "      <td>3903.00000</td>\n",
       "      <td>7879.00000</td>\n",
       "    </tr>\n",
       "  </tbody>\n",
       "</table>\n",
       "</div>"
      ],
      "text/plain": [
       "                             count          mean           std         min  \\\n",
       "age                    26588.00000      38.05224      17.52684     3.00000   \n",
       "gross_income           26588.00000  128290.30936  267713.88062  2336.01000   \n",
       "num_credit_cards       26588.00000       0.00008       0.00867     0.00000   \n",
       "ind_actividad_cliente  26588.00000       0.00000       0.00000     0.00000   \n",
       "num_Products           26588.00000       0.71950       0.54930     0.00000   \n",
       "num_loans              26588.00000       0.00000       0.00000     0.00000   \n",
       "duration               26588.00000    2561.07067    1850.11752   366.00000   \n",
       "\n",
       "                               25%          50%           75%             max  \n",
       "age                       24.00000     32.00000      48.00000       112.00000  \n",
       "gross_income           64591.25250  94768.90500  146964.39000  28894395.51000  \n",
       "num_credit_cards           0.00000      0.00000       0.00000         1.00000  \n",
       "ind_actividad_cliente      0.00000      0.00000       0.00000         0.00000  \n",
       "num_Products               0.00000      1.00000       1.00000         4.00000  \n",
       "num_loans                  0.00000      0.00000       0.00000         0.00000  \n",
       "duration                1084.00000   1774.00000    3903.00000      7879.00000  "
      ]
     },
     "execution_count": 74,
     "metadata": {},
     "output_type": "execute_result"
    }
   ],
   "source": [
    "II.describe().apply(lambda s: s.apply('{0:.5f}'.format)).transpose()"
   ]
  },
  {
   "cell_type": "code",
   "execution_count": 75,
   "id": "c7d72558",
   "metadata": {},
   "outputs": [
    {
     "data": {
      "text/html": [
       "<div>\n",
       "<style scoped>\n",
       "    .dataframe tbody tr th:only-of-type {\n",
       "        vertical-align: middle;\n",
       "    }\n",
       "\n",
       "    .dataframe tbody tr th {\n",
       "        vertical-align: top;\n",
       "    }\n",
       "\n",
       "    .dataframe thead th {\n",
       "        text-align: right;\n",
       "    }\n",
       "</style>\n",
       "<table border=\"1\" class=\"dataframe\">\n",
       "  <thead>\n",
       "    <tr style=\"text-align: right;\">\n",
       "      <th></th>\n",
       "      <th>count</th>\n",
       "      <th>unique</th>\n",
       "      <th>top</th>\n",
       "      <th>freq</th>\n",
       "    </tr>\n",
       "  </thead>\n",
       "  <tbody>\n",
       "    <tr>\n",
       "      <th>gender</th>\n",
       "      <td>26588</td>\n",
       "      <td>2</td>\n",
       "      <td>F</td>\n",
       "      <td>13755</td>\n",
       "    </tr>\n",
       "    <tr>\n",
       "      <th>segment</th>\n",
       "      <td>26588</td>\n",
       "      <td>3</td>\n",
       "      <td>Individuals</td>\n",
       "      <td>13834</td>\n",
       "    </tr>\n",
       "    <tr>\n",
       "      <th>tiprel_1mes</th>\n",
       "      <td>26588</td>\n",
       "      <td>1</td>\n",
       "      <td>I</td>\n",
       "      <td>26588</td>\n",
       "    </tr>\n",
       "  </tbody>\n",
       "</table>\n",
       "</div>"
      ],
      "text/plain": [
       "             count unique          top   freq\n",
       "gender       26588      2            F  13755\n",
       "segment      26588      3  Individuals  13834\n",
       "tiprel_1mes  26588      1            I  26588"
      ]
     },
     "execution_count": 75,
     "metadata": {},
     "output_type": "execute_result"
    }
   ],
   "source": [
    "II.describe(include=object).transpose()"
   ]
  },
  {
   "cell_type": "markdown",
   "id": "bb88b03c",
   "metadata": {},
   "source": [
    "---------------"
   ]
  },
  {
   "cell_type": "code",
   "execution_count": 76,
   "id": "e660d980",
   "metadata": {},
   "outputs": [],
   "source": [
    "#Inactive in the beginning, Active at the end\n",
    "IA = df.loc[((df['tiprel_1mes'] == 'I') & (df['ind_actividad_cliente'] == 1))]"
   ]
  },
  {
   "cell_type": "code",
   "execution_count": 77,
   "id": "ab882ee9",
   "metadata": {},
   "outputs": [
    {
     "data": {
      "text/html": [
       "<div>\n",
       "<style scoped>\n",
       "    .dataframe tbody tr th:only-of-type {\n",
       "        vertical-align: middle;\n",
       "    }\n",
       "\n",
       "    .dataframe tbody tr th {\n",
       "        vertical-align: top;\n",
       "    }\n",
       "\n",
       "    .dataframe thead th {\n",
       "        text-align: right;\n",
       "    }\n",
       "</style>\n",
       "<table border=\"1\" class=\"dataframe\">\n",
       "  <thead>\n",
       "    <tr style=\"text-align: right;\">\n",
       "      <th></th>\n",
       "      <th>count</th>\n",
       "      <th>mean</th>\n",
       "      <th>std</th>\n",
       "      <th>min</th>\n",
       "      <th>25%</th>\n",
       "      <th>50%</th>\n",
       "      <th>75%</th>\n",
       "      <th>max</th>\n",
       "    </tr>\n",
       "  </thead>\n",
       "  <tbody>\n",
       "    <tr>\n",
       "      <th>age</th>\n",
       "      <td>2438.00000</td>\n",
       "      <td>39.74938</td>\n",
       "      <td>17.64509</td>\n",
       "      <td>2.00000</td>\n",
       "      <td>24.00000</td>\n",
       "      <td>37.00000</td>\n",
       "      <td>50.00000</td>\n",
       "      <td>105.00000</td>\n",
       "    </tr>\n",
       "    <tr>\n",
       "      <th>gross_income</th>\n",
       "      <td>2438.00000</td>\n",
       "      <td>123093.65686</td>\n",
       "      <td>93297.29319</td>\n",
       "      <td>9049.62000</td>\n",
       "      <td>67119.69750</td>\n",
       "      <td>97501.50000</td>\n",
       "      <td>148200.85500</td>\n",
       "      <td>1174394.49000</td>\n",
       "    </tr>\n",
       "    <tr>\n",
       "      <th>num_credit_cards</th>\n",
       "      <td>2438.00000</td>\n",
       "      <td>0.00164</td>\n",
       "      <td>0.04048</td>\n",
       "      <td>0.00000</td>\n",
       "      <td>0.00000</td>\n",
       "      <td>0.00000</td>\n",
       "      <td>0.00000</td>\n",
       "      <td>1.00000</td>\n",
       "    </tr>\n",
       "    <tr>\n",
       "      <th>ind_actividad_cliente</th>\n",
       "      <td>2438.00000</td>\n",
       "      <td>1.00000</td>\n",
       "      <td>0.00000</td>\n",
       "      <td>1.00000</td>\n",
       "      <td>1.00000</td>\n",
       "      <td>1.00000</td>\n",
       "      <td>1.00000</td>\n",
       "      <td>1.00000</td>\n",
       "    </tr>\n",
       "    <tr>\n",
       "      <th>num_Products</th>\n",
       "      <td>2438.00000</td>\n",
       "      <td>1.27728</td>\n",
       "      <td>0.53000</td>\n",
       "      <td>0.00000</td>\n",
       "      <td>1.00000</td>\n",
       "      <td>1.00000</td>\n",
       "      <td>2.00000</td>\n",
       "      <td>4.00000</td>\n",
       "    </tr>\n",
       "    <tr>\n",
       "      <th>num_loans</th>\n",
       "      <td>2438.00000</td>\n",
       "      <td>0.00000</td>\n",
       "      <td>0.00000</td>\n",
       "      <td>0.00000</td>\n",
       "      <td>0.00000</td>\n",
       "      <td>0.00000</td>\n",
       "      <td>0.00000</td>\n",
       "      <td>0.00000</td>\n",
       "    </tr>\n",
       "    <tr>\n",
       "      <th>duration</th>\n",
       "      <td>2438.00000</td>\n",
       "      <td>2648.24405</td>\n",
       "      <td>1874.05421</td>\n",
       "      <td>366.00000</td>\n",
       "      <td>1091.00000</td>\n",
       "      <td>1824.50000</td>\n",
       "      <td>4283.00000</td>\n",
       "      <td>7879.00000</td>\n",
       "    </tr>\n",
       "  </tbody>\n",
       "</table>\n",
       "</div>"
      ],
      "text/plain": [
       "                            count          mean          std         min  \\\n",
       "age                    2438.00000      39.74938     17.64509     2.00000   \n",
       "gross_income           2438.00000  123093.65686  93297.29319  9049.62000   \n",
       "num_credit_cards       2438.00000       0.00164      0.04048     0.00000   \n",
       "ind_actividad_cliente  2438.00000       1.00000      0.00000     1.00000   \n",
       "num_Products           2438.00000       1.27728      0.53000     0.00000   \n",
       "num_loans              2438.00000       0.00000      0.00000     0.00000   \n",
       "duration               2438.00000    2648.24405   1874.05421   366.00000   \n",
       "\n",
       "                               25%          50%           75%            max  \n",
       "age                       24.00000     37.00000      50.00000      105.00000  \n",
       "gross_income           67119.69750  97501.50000  148200.85500  1174394.49000  \n",
       "num_credit_cards           0.00000      0.00000       0.00000        1.00000  \n",
       "ind_actividad_cliente      1.00000      1.00000       1.00000        1.00000  \n",
       "num_Products               1.00000      1.00000       2.00000        4.00000  \n",
       "num_loans                  0.00000      0.00000       0.00000        0.00000  \n",
       "duration                1091.00000   1824.50000    4283.00000     7879.00000  "
      ]
     },
     "execution_count": 77,
     "metadata": {},
     "output_type": "execute_result"
    }
   ],
   "source": [
    "IA.describe().apply(lambda s: s.apply('{0:.5f}'.format)).transpose()"
   ]
  },
  {
   "cell_type": "code",
   "execution_count": 78,
   "id": "c772b4c4",
   "metadata": {},
   "outputs": [
    {
     "data": {
      "text/html": [
       "<div>\n",
       "<style scoped>\n",
       "    .dataframe tbody tr th:only-of-type {\n",
       "        vertical-align: middle;\n",
       "    }\n",
       "\n",
       "    .dataframe tbody tr th {\n",
       "        vertical-align: top;\n",
       "    }\n",
       "\n",
       "    .dataframe thead th {\n",
       "        text-align: right;\n",
       "    }\n",
       "</style>\n",
       "<table border=\"1\" class=\"dataframe\">\n",
       "  <thead>\n",
       "    <tr style=\"text-align: right;\">\n",
       "      <th></th>\n",
       "      <th>count</th>\n",
       "      <th>unique</th>\n",
       "      <th>top</th>\n",
       "      <th>freq</th>\n",
       "    </tr>\n",
       "  </thead>\n",
       "  <tbody>\n",
       "    <tr>\n",
       "      <th>gender</th>\n",
       "      <td>2438</td>\n",
       "      <td>2</td>\n",
       "      <td>F</td>\n",
       "      <td>1294</td>\n",
       "    </tr>\n",
       "    <tr>\n",
       "      <th>segment</th>\n",
       "      <td>2438</td>\n",
       "      <td>3</td>\n",
       "      <td>Individuals</td>\n",
       "      <td>1478</td>\n",
       "    </tr>\n",
       "    <tr>\n",
       "      <th>tiprel_1mes</th>\n",
       "      <td>2438</td>\n",
       "      <td>1</td>\n",
       "      <td>I</td>\n",
       "      <td>2438</td>\n",
       "    </tr>\n",
       "  </tbody>\n",
       "</table>\n",
       "</div>"
      ],
      "text/plain": [
       "            count unique          top  freq\n",
       "gender       2438      2            F  1294\n",
       "segment      2438      3  Individuals  1478\n",
       "tiprel_1mes  2438      1            I  2438"
      ]
     },
     "execution_count": 78,
     "metadata": {},
     "output_type": "execute_result"
    }
   ],
   "source": [
    "IA.describe(include=object).transpose()"
   ]
  },
  {
   "cell_type": "code",
   "execution_count": null,
   "id": "6afebe66",
   "metadata": {},
   "outputs": [],
   "source": []
  }
 ],
 "metadata": {
  "kernelspec": {
   "display_name": "Python 3 (ipykernel)",
   "language": "python",
   "name": "python3"
  },
  "language_info": {
   "codemirror_mode": {
    "name": "ipython",
    "version": 3
   },
   "file_extension": ".py",
   "mimetype": "text/x-python",
   "name": "python",
   "nbconvert_exporter": "python",
   "pygments_lexer": "ipython3",
   "version": "3.9.7"
  }
 },
 "nbformat": 4,
 "nbformat_minor": 5
}
